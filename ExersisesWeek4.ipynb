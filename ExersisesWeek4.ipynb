{
 "cells": [
  {
   "cell_type": "markdown",
   "metadata": {},
   "source": [
    "# Курс \"Основы программирования на Python\", неделя 4"
   ]
  },
  {
   "cell_type": "markdown",
   "metadata": {},
   "source": [
    "- [Минимум 4 чисел](#1)\n",
    "- [Длина отрезка](#2)\n",
    "- [Принадлежит ли точка квадрату - 1](#4)\n",
    "- [Минимальный делитель числа](#5)\n",
    "- [Проверка числа на простоту](#6)\n",
    "- [Возведение в степень](#7)\n",
    "- [Отрицательная степень](#8)\n",
    "- [Быстрое возведение в степень](#9)\n",
    "- [Алгоритм Евклида](#10)"
   ]
  },
  {
   "cell_type": "markdown",
   "metadata": {},
   "source": [
    "## Минимум 4 чисел <a id='1'></a>\n",
    "Напишите функцию min4(a, b, c, d), вычисляющую минимум четырех чисел, которая не содержит инструкции if, а использует стандартную функцию min от двух чисел. Считайте четыре целых числа и выведите их минимум."
   ]
  },
  {
   "cell_type": "code",
   "execution_count": 1,
   "metadata": {},
   "outputs": [
    {
     "name": "stdout",
     "output_type": "stream",
     "text": [
      "12\n",
      "23423\n",
      "34534\n",
      "9\n",
      "9\n"
     ]
    }
   ],
   "source": [
    "a = int(input())\n",
    "b = int(input())\n",
    "c = int(input())\n",
    "d = int(input())\n",
    "\n",
    "\n",
    "def min4(a, b, c, d):\n",
    "    return min(a, b, c, d)\n",
    "\n",
    "\n",
    "print(min4(a, b, c, d))"
   ]
  },
  {
   "cell_type": "markdown",
   "metadata": {},
   "source": [
    "## Длина отрезка <a id='2'></a>\n",
    "Даны четыре действительных числа: x₁, y₁, x₂, y₂. Напишите функцию distance(x1, y1, x2, y2), вычисляющую расстояниемежду точкой (x₁,y₁) и (x₂,y₂). Считайте четыре действительных числаи выведите результат работы этой функции."
   ]
  },
  {
   "cell_type": "code",
   "execution_count": 2,
   "metadata": {},
   "outputs": [
    {
     "name": "stdout",
     "output_type": "stream",
     "text": [
      "23\n",
      "523\n",
      "54\n",
      "23\n",
      "500.96007824975436\n"
     ]
    }
   ],
   "source": [
    "x1 = float(input())\n",
    "y1 = float(input())\n",
    "x2 = float(input())\n",
    "y2 = float(input())\n",
    "\n",
    "\n",
    "def distance(x1, y1, x2, y2):\n",
    "    return(((x2-x1)**2 + (y2-y1)**2)**0.5)\n",
    "print(distance(x1, y1, x2, y2))"
   ]
  },
  {
   "cell_type": "markdown",
   "metadata": {},
   "source": [
    "##  Принадлежит ли точка квадрату - 1<a id='4'></a>\n",
    "Даны два действительных числа x и y. Проверьте, принадлежит ли точка с координатами (x,y) заштрихованному квадрату (включая его границу). Если точка принадлежит квадрату, выведите слово YES, иначе выведите слово NO. На рисунке сетка проведена с шагом 1.\n",
    "\n",
    "Решение должно содержать функцию IsPointInSquare(x, y), возвращающую True, если точка принадлежит квадрату и False, если не принадлежит. Основная программа должна считать координаты точки, вызвать функцию IsPointInSquare и в зависимости от возвращенного значения вывести на экран необходимое сообщение. Функция IsPointInSquare не должна содержать инструкцию if."
   ]
  },
  {
   "cell_type": "code",
   "execution_count": null,
   "metadata": {},
   "outputs": [],
   "source": [
    "start = 1\n",
    "end = -1\n",
    "x = float(input())\n",
    "y = float(input()) \n",
    "def IsPointInSquare(x, y):\n",
    "    return (x<=start and x>=end) and (y>=end and y<=start)\n",
    "if IsPointInSquare(x,y):\n",
    "    print('YES')\n",
    "else:\n",
    "    print ('NO')"
   ]
  },
  {
   "cell_type": "markdown",
   "metadata": {},
   "source": [
    "## Минимальный делитель числа <a id='5'></a>\n",
    "Дано натуральное число n>1. Выведите его наименьший делитель, отличный от 1. Решение оформите в виде функции MinDivisor(n). Алгоритм должен иметь сложность порядка корня квадратного из n.\n",
    "\n",
    "Указание. Если у числа n нет делителя не превосходящего корня из n, то число n — простое и ответом будет само число n. А у всех составных чисел обязательно есть делители, отличные от единицы и не превосходящие корня из n."
   ]
  },
  {
   "cell_type": "code",
   "execution_count": null,
   "metadata": {},
   "outputs": [],
   "source": [
    "from math import sqrt\n",
    "n = int(input())\n",
    "def MinDivisor(n):\n",
    "    i = 2\n",
    "    while n % i != 0:\n",
    "       if i >= sqrt(n):\n",
    "           print(n)\n",
    "           return\n",
    "       i += 1\n",
    "    print(i)\n",
    "MinDivisor(n)   "
   ]
  },
  {
   "cell_type": "markdown",
   "metadata": {},
   "source": [
    "## Проверка числа на простоту<a id='6'></a>\n",
    "Дано натуральное число n>1. Проверьте, является ли оно простым. Программа должна вывести слово YES, если число простое и NO, если число составное. Решение оформите в виде функции IsPrime(n), которая возвращает True для простых чисел и False для составных чисел. Количество действий в программе должно быть пропорционально квадратному корню из n.\n",
    "\n",
    "Формат ввода: вводится натуральное число."
   ]
  },
  {
   "cell_type": "code",
   "execution_count": null,
   "metadata": {},
   "outputs": [],
   "source": [
    "from math import sqrt\n",
    "\n",
    "n = int(input())\n",
    "\n",
    "\n",
    "def MinDivisor(n):\n",
    "    i = 2\n",
    "    while n % i != 0:\n",
    "        if i >= sqrt(n):\n",
    "            return n\n",
    "        i += 1\n",
    "    return i\n",
    "\n",
    "\n",
    "def IsPrime(n):\n",
    "    return int(n // (MinDivisor(n))) == 1\n",
    "\n",
    "\n",
    "if IsPrime(n):\n",
    "    print(\"YES\")\n",
    "else:\n",
    "    print(\"NO\")"
   ]
  },
  {
   "cell_type": "markdown",
   "metadata": {},
   "source": [
    "## Возведение в степень <a id='7'></a>\n",
    "Дано действительное положительное число a и целое неотрицательное число n.Вычислите aⁿ не используя циклы и стандартную функцию pow, а используя рекуррентное соотношение aⁿ=a⋅aⁿ⁻¹.\n",
    "\n",
    "Решение оформите в виде функции power(a, n)\n"
   ]
  },
  {
   "cell_type": "code",
   "execution_count": 3,
   "metadata": {},
   "outputs": [
    {
     "name": "stdout",
     "output_type": "stream",
     "text": [
      "2\n",
      "10\n",
      "1024.0\n"
     ]
    }
   ],
   "source": [
    "def power(a, n):\n",
    "    if n > 0:\n",
    "        return a * power(a, n - 1)\n",
    "    return 1\n",
    "a = float(input())\n",
    "n = int(input())\n",
    "print(power(a,n))"
   ]
  },
  {
   "cell_type": "markdown",
   "metadata": {},
   "source": [
    "## Отрицательная степень<a id='8'></a>\n",
    "Дано действительное положительное число a и целоe число n. Вычислите aⁿ. Решение оформите в виде функции power(a, n). Стандартной функцией возведения в степерь пользоваться нельзя. Вводится действительное положительное число a и целоe число n."
   ]
  },
  {
   "cell_type": "code",
   "execution_count": null,
   "metadata": {},
   "outputs": [],
   "source": [
    "a = float(input())\n",
    "n = int(input())\n",
    "\n",
    "\n",
    "def power(a, n):\n",
    "    if a == 0 and n == 0:\n",
    "        return 0\n",
    "    res = 1\n",
    "    tmp = abs(n)\n",
    "    while tmp > 0:\n",
    "        res *= a\n",
    "        tmp -= 1\n",
    "    if n < 0:\n",
    "        res = 1 / res\n",
    "    return res\n",
    "\n",
    "\n",
    "print(power(a, n))"
   ]
  },
  {
   "cell_type": "markdown",
   "metadata": {},
   "source": [
    "## Сложение без сложения<a id='9'></a>\n",
    "Напишите рекурсивную функцию sum(a, b), возвращающую сумму двух целых неотрицательных чисел. Из всех арифметических операций допускаютсятолько +1 и -1. Также нельзя использовать циклы. Вводятся два целых числа."
   ]
  },
  {
   "cell_type": "code",
   "execution_count": null,
   "metadata": {},
   "outputs": [],
   "source": [
    "a = int(input())\n",
    "b = int(input())\n",
    "ch = 0\n",
    "\n",
    "\n",
    "def sum(i):\n",
    "    global ch\n",
    "    if i != 0:\n",
    "        i -= 1\n",
    "        ch += 1\n",
    "        sum(i)\n",
    "        return ch\n",
    "sum(a)\n",
    "sum(b)\n",
    "print(ch)"
   ]
  },
  {
   "cell_type": "markdown",
   "metadata": {},
   "source": [
    "## Быстрое возведение в степень <a id='10'></a>\n",
    "Возводить в степень можно гораздо быстрее, чем за n умножений! Для этого нужно воспользоваться следующими рекуррентными соотношениями: aⁿ = (a²)ⁿ/² при четном n, aⁿ=a⋅aⁿ⁻¹ при нечетном n. Реализуйте алгоритм быстрого возведения в степень. Если вы все сделаете правильно,то сложность вашего алгоритма будет O(logn). Вводится действительное число a и целое число n."
   ]
  },
  {
   "cell_type": "code",
   "execution_count": null,
   "metadata": {},
   "outputs": [],
   "source": [
    "def fastExp(a, n):\n",
    "    def even(n):\n",
    "        if n%2==0:\n",
    "            return 1\n",
    "        return 0\n",
    "    if n==0:\n",
    "        return 1\n",
    "    if even(n):\n",
    "        return fastExp(a, n/2)**2\n",
    "    return a*fastExp(a, n-1)\n",
    "a = float(input())\n",
    "n = int(input())\n",
    "print(fastExp(a, n))"
   ]
  },
  {
   "cell_type": "markdown",
   "metadata": {},
   "source": [
    "## Алгоритм Евклида<a id='11'></a>\n",
    "Даны вещественные числа a, b, c, d, e, f. Известно, что система линейных уравнений:\n",
    "\n",
    "ax + by = e\n",
    "\n",
    "cx + dy = f\n",
    "\n",
    "имеет ровно одно решение. Выведите два числа x и y, являющиеся решением этой системы."
   ]
  },
  {
   "cell_type": "code",
   "execution_count": null,
   "metadata": {},
   "outputs": [],
   "source": [
    "a = float(input())\n",
    "b = float(input())\n",
    "c = float(input())\n",
    "d = float(input())\n",
    "e = float(input())\n",
    "f = float(input())\n",
    "det = a*d-c*b\n",
    "det1 = e*d-f*b\n",
    "det2 = a*f-c*e\n",
    "x1 = det1/det\n",
    "x2 = det2/det\n",
    "if det != 0:\n",
    "    print(x1, x2)\n",
    "if det == 0:\n",
    "    print\n",
    "y = (f-c*e)/(a*d-c*b)\n",
    "x = (e-b*y)/a\n",
    "print(int(x//1), int(y//1))n = -1\n",
    "i = -1\n",
    "while n != 0:\n",
    "    n = int(input())\n",
    "    if n % 2 == 0:\n",
    "        i += 1\n",
    "print(i)"
   ]
  }
 ],
 "metadata": {
  "kernelspec": {
   "display_name": "Python 3",
   "language": "python",
   "name": "python3"
  },
  "language_info": {
   "codemirror_mode": {
    "name": "ipython",
    "version": 3
   },
   "file_extension": ".py",
   "mimetype": "text/x-python",
   "name": "python",
   "nbconvert_exporter": "python",
   "pygments_lexer": "ipython3",
   "version": "3.7.0"
  }
 },
 "nbformat": 4,
 "nbformat_minor": 2
}
