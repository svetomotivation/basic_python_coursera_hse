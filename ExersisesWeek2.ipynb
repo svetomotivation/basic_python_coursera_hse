{
 "cells": [
  {
   "cell_type": "markdown",
   "metadata": {},
   "source": [
    "# Курс \"Основы программирования на Python\", неделя 2"
   ]
  },
  {
   "cell_type": "markdown",
   "metadata": {},
   "source": [
    "- [Максимум трех чисел](#1)\n",
    "- [Високосный год](#2)\n",
    "- [Список квадратов](#4)\n",
    "- [Минимальный делитель](#5)\n",
    "- [Список степеней двойки](#6)\n",
    "- [Точная степень двойки](#7)\n",
    "- [Сумма квадратов](#8)\n",
    "- [Длина последовательности](#9)\n",
    "- [Среднее значение последовательности](#10)\n",
    "- [Количество четных элементов последовательности](#11)\n",
    "- [Количество элементов, больше предыдущего](#12)\n",
    "- [Второй максимум](#13)\n",
    "- [Шоколадка](#14)\n",
    "- [Коровы](#15)\n",
    "- [Знак числа](#16)\n",
    "- [Сколько совпадает чисел](#17)\n",
    "- [Координатные четверти](#18)\n",
    "- [Тип треугольника](#19)\n",
    "- [Утренняя пробежка](#20)"
   ]
  },
  {
   "cell_type": "markdown",
   "metadata": {},
   "source": [
    "## Максимум трех чисел <a id='1'></a>\n",
    "Даны три целых числа. Найдите наибольшее из них (программа должна вывести ровно одно целое число)."
   ]
  },
  {
   "cell_type": "code",
   "execution_count": null,
   "metadata": {},
   "outputs": [],
   "source": [
    "a = int(input())\n",
    "b = int(input())\n",
    "c = int(input())\n",
    "if a>=b and a>=c:\n",
    "    print(a)\n",
    "elif b>=a and b>=c:\n",
    "    print(b)\n",
    "else:\n",
    "    print(c)"
   ]
  },
  {
   "cell_type": "markdown",
   "metadata": {},
   "source": [
    "## Високосный год <a id='2'></a>\n",
    "Дано натуральное число. Требуется определить, является ли год с данным номером високосным. Если год является високосным, то выведите YES, иначе выведите NO. Напомним, что в соответствии с григорианским календарем, год является високосным, если его номер кратен 4, но не кратен 100, а также если он кратен 400."
   ]
  },
  {
   "cell_type": "code",
   "execution_count": null,
   "metadata": {},
   "outputs": [],
   "source": [
    "n = int(input())\n",
    "if n % 4 == 0 and n % 100 > 0:\n",
    "    print('YES')\n",
    "elif n % 400 == 0:\n",
    "    print('YES')\n",
    "else:\n",
    "    print('NO')"
   ]
  },
  {
   "cell_type": "markdown",
   "metadata": {},
   "source": [
    "## Список квадратов <a id='4'></a>"
   ]
  },
  {
   "cell_type": "markdown",
   "metadata": {},
   "source": [
    "По данному целому числу N распечатайте все квадраты натуральных чисел,не превосходящие N, в порядке возрастания."
   ]
  },
  {
   "cell_type": "code",
   "execution_count": null,
   "metadata": {},
   "outputs": [],
   "source": [
    "n = int(input())\n",
    "i = 1\n",
    "while i <= n:\n",
    "    print(i ** 2, sep = \" \")\n",
    "    i += 1"
   ]
  },
  {
   "cell_type": "markdown",
   "metadata": {},
   "source": [
    "## Минимальный делитель <a id='5'></a>\n",
    "Дано целое число, не меньшее 2. Выведите его наименьший натуральный делитель, отличный от 1."
   ]
  },
  {
   "cell_type": "code",
   "execution_count": null,
   "metadata": {},
   "outputs": [],
   "source": [
    "n = int(input())\n",
    "i = 1\n",
    "while i <= n:\n",
    "    i = i+1\n",
    "    if n % i == 0:\n",
    "        print(i)\n",
    "        break"
   ]
  },
  {
   "cell_type": "markdown",
   "metadata": {},
   "source": [
    "## Список степеней двойки<a id='6'></a>\n",
    "По данному числу N распечатайте все целые степени двойки, не превосходящие N, в порядке возрастания.Операцией возведения в степень пользоваться нельзя!"
   ]
  },
  {
   "cell_type": "code",
   "execution_count": null,
   "metadata": {},
   "outputs": [],
   "source": [
    "n = int(input())\n",
    "i = 1\n",
    "while 2 ** i <= n:\n",
    "    print(2 ** i, end = \" \")\n",
    "    i += 1"
   ]
  },
  {
   "cell_type": "markdown",
   "metadata": {},
   "source": [
    "## Точная степень двойки <a id='7'></a>\n",
    "Дано натуральное число N. Выведите слово YES, если число N является точной степенью двойки, или слово NO в противном случае. Операцией возведения в степень пользоваться нельзя!"
   ]
  },
  {
   "cell_type": "code",
   "execution_count": null,
   "metadata": {},
   "outputs": [],
   "source": [
    "n = int(input())\n",
    "i = 1\n",
    "while 2 ** i == n:\n",
    "    print('YES')\n",
    "    if 2 ** i != n:\n",
    "        print('NO')\n",
    "    i += 1"
   ]
  },
  {
   "cell_type": "markdown",
   "metadata": {},
   "source": [
    "## Сумма квадратов<a id='8'></a>\n",
    "По данному натуральном n вычислите сумму 1²+2²+3²+...+n²."
   ]
  },
  {
   "cell_type": "code",
   "execution_count": null,
   "metadata": {},
   "outputs": [],
   "source": [
    "n = int(input())\n",
    "i = 0\n",
    "s = 0\n",
    "while i < n:\n",
    "    i = i + 1\n",
    "    a = i ** 2\n",
    "    s += a\n",
    "print(s)"
   ]
  },
  {
   "cell_type": "markdown",
   "metadata": {},
   "source": [
    "## Длина последовательности<a id='9'></a>\n",
    "Программа получает на вход последовательность целых неотрицательных чисел, каждое число записано в отдельной строке. Последовательность завершается числом 0, при считывании которого программа должна закончить свою работу и вывестиколичество членов последовательности (не считая завершающего числа 0)."
   ]
  },
  {
   "cell_type": "code",
   "execution_count": null,
   "metadata": {},
   "outputs": [],
   "source": [
    "n = 0\n",
    "m = int(input())\n",
    "while m != 0:\n",
    "    m = int(input())\n",
    "    n = n + 1\n",
    "print(n)"
   ]
  },
  {
   "cell_type": "markdown",
   "metadata": {},
   "source": [
    "## Среднее значение последовательности<a id='10'></a>\n",
    "Определите среднее значение всех элементов последовательности, завершающейся числом 0.Использовать массивы в данной задаче нельзя."
   ]
  },
  {
   "cell_type": "code",
   "execution_count": null,
   "metadata": {},
   "outputs": [],
   "source": [
    "n = int(input())\n",
    "s = 0\n",
    "i = 0\n",
    "while n != 0:\n",
    "    s += n\n",
    "    n = int(input())\n",
    "    i += 1\n",
    "    m = s / i\n",
    "print(m)"
   ]
  },
  {
   "cell_type": "markdown",
   "metadata": {},
   "source": [
    "## Количество четных элементов последовательности <a id='11'></a>\n",
    "Определите количество четных элементов в последовательности, завершающейся числом 0."
   ]
  },
  {
   "cell_type": "code",
   "execution_count": null,
   "metadata": {},
   "outputs": [],
   "source": [
    "n = -1\n",
    "i = -1\n",
    "while n != 0:\n",
    "    n = int(input())\n",
    "    if n % 2 == 0:\n",
    "        i += 1\n",
    "print(i)"
   ]
  },
  {
   "cell_type": "markdown",
   "metadata": {},
   "source": [
    "## Количество элементов, больше предыдущего <a id='12'></a>\n",
    "Последовательность состоит из натуральных чисел и завершается числом 0.Определите, сколько элементов этой последовательности больше предыдущего элемента."
   ]
  },
  {
   "cell_type": "code",
   "execution_count": null,
   "metadata": {},
   "outputs": [],
   "source": [
    "n = -1\n",
    "m = -1\n",
    "i = -1\n",
    "while n != 0:\n",
    "    n = int(input())\n",
    "    if n > m:\n",
    "        i += 1\n",
    "    m = n\n",
    "print(i)"
   ]
  },
  {
   "cell_type": "markdown",
   "metadata": {},
   "source": [
    "## Второй максимум <a id='13'></a>\n",
    "Последовательность состоит из натуральных чисел и завершается числом 0. Определите значение второго по величине элемента в этой последовательности, то есть элемента, который будет наибольшим, если из последовательности удалить одно вхождение наибольшего элемента."
   ]
  },
  {
   "cell_type": "code",
   "execution_count": null,
   "metadata": {},
   "outputs": [],
   "source": [
    "first = int(input())\n",
    "i = int(input())\n",
    "if i > first:\n",
    "    second,first = first,i\n",
    "i = int(input())\n",
    "while i!=0:\n",
    "    if i > first:\n",
    "        second,first=first,i\n",
    "    elif second<i<first:\n",
    "        second=i\n",
    "    i = int(input())\n",
    "print(second)"
   ]
  },
  {
   "cell_type": "markdown",
   "metadata": {},
   "source": [
    "## Шоколадка <a id='14'></a>\n",
    "Шоколадка имеет вид прямоугольника, разделенного на n×m долек. Шоколадку можно один раз разломить по прямой на две части. Определите, можно ли таким образом отломить от шоколадки ровно k долек."
   ]
  },
  {
   "cell_type": "code",
   "execution_count": null,
   "metadata": {},
   "outputs": [],
   "source": [
    "n = int(input())\n",
    "m = int(input())\n",
    "k = int(input())\n",
    "if n*m >= k and (k % n == 0 or k % m == 0):\n",
    "    print('Yes')\n",
    "else:\n",
    "    print('NO')"
   ]
  },
  {
   "cell_type": "markdown",
   "metadata": {},
   "source": [
    "## Коровы <a id='15'></a>\n",
    "Для данного числа n<100 закончите фразу “На лугу пасется...” одним из возможных продолжений: “n коров”, “n корова”, “n коровы”, правильно склоняя слово “корова”."
   ]
  },
  {
   "cell_type": "code",
   "execution_count": null,
   "metadata": {},
   "outputs": [],
   "source": [
    "n = int(input())\n",
    "if n % 10 == 1 and n // 10 != 1:\n",
    "    print(n, \"korova\")\n",
    "elif n // 10 == 1:\n",
    "    print(n, \"korov\")\n",
    "elif n % 10 == 2 or n % 10 == 3 or n % 10 == 4:\n",
    "    print(n, \"korovy\")\n",
    "else:\n",
    "    print(n, \"korov\")"
   ]
  },
  {
   "cell_type": "markdown",
   "metadata": {},
   "source": [
    "## Знак числа <a id='16'></a>\n",
    "Для данного числа x выведите значение sign(x)"
   ]
  },
  {
   "cell_type": "code",
   "execution_count": null,
   "metadata": {},
   "outputs": [],
   "source": [
    "x = int(input())\n",
    "if x>0:\n",
    "    print(1)\n",
    "elif x == 0:\n",
    "    print(0)\n",
    "else:\n",
    "    print(-1)"
   ]
  },
  {
   "cell_type": "markdown",
   "metadata": {},
   "source": [
    "## Сколько совпадает чисел<a id='17'></a>\n",
    "Даны три целых числа. Определите, сколько среди них совпадающих. Программа должна вывести одно из чисел: 3 (если все совпадают), 2 (если два совпадает) или 0 (если все числа различны)."
   ]
  },
  {
   "cell_type": "code",
   "execution_count": null,
   "metadata": {},
   "outputs": [],
   "source": [
    "q = int(input())\n",
    "w = int(input())\n",
    "e = int(input())\n",
    "if q == w and w == e:\n",
    "    print(3)\n",
    "elif q != w == e or q == w != e or q == e != w:\n",
    "    print(2)\n",
    "else:\n",
    "    print(0)\n",
    "\n"
   ]
  },
  {
   "cell_type": "markdown",
   "metadata": {},
   "source": [
    "## Координатные четверти <a id='18'></a>\n",
    "Даны координаты двух точек на плоскости, требуется определить, лежат ли они в одной координатной четверти или нет (все координаты отличны от нуля)."
   ]
  },
  {
   "cell_type": "code",
   "execution_count": null,
   "metadata": {},
   "outputs": [],
   "source": [
    "x1 = int(input())\n",
    "y1 = int(input())\n",
    "x2 = int(input())\n",
    "y2 = int(input())\n",
    "if x1 > 0 and y1 > 0 and x2 > 0 and y2 > 0:\n",
    "    print(\"YES\")\n",
    "elif x1 < 0 and y1 < 0 and x2 < 0 and y2 < 0:\n",
    "    print(\"YES\")\n",
    "elif x1 < 0 and y1 > 0 and x2 < 0 and y2 > 0:\n",
    "    print(\"YES\")\n",
    "elif x1 > 0 and y1 < 0 and x2 > 0 and y2 < 0:\n",
    "    print(\"YES\")\n",
    "else:\n",
    "    print(\"NO\")"
   ]
  },
  {
   "cell_type": "markdown",
   "metadata": {},
   "source": [
    "## Тип треугольника <a id='19'></a>\n",
    "Даны три стороны треугольника a,b,c. Определите тип треугольника с заданными сторонами. Выведите одно из четырех слов: rectangular для прямоугольного треугольника, acute для остроугольного треугольника, obtuse для тупоугольного треугольника или impossible, если треугольника с такими сторонами не существует."
   ]
  },
  {
   "cell_type": "code",
   "execution_count": null,
   "metadata": {},
   "outputs": [],
   "source": [
    "a = int(input())\n",
    "b = int(input())\n",
    "c = int(input())\n",
    "if a**2 == b**2 + c**2 or b**2 == a**2+c**2 or c**2 == a**2 + b**2:\n",
    "    print(\"rectangular\")\n",
    "elif (a+b < c) or (a+c<b) or (b+c<a):\n",
    "    print('impossible')\n",
    "elif a**2 < b**2 + c**2 or b**2 < a**2+c**2 or c**2 < a**2 + b**2:\n",
    "    print(\"acute\")\n",
    "else:\n",
    "    print(\"obtuse\")"
   ]
  },
  {
   "cell_type": "markdown",
   "metadata": {},
   "source": [
    "## Утренняя пробежка <a id='20'></a>\n",
    "В первый день спортсмен пробежал x километров, а затем он каждый день увеличивал пробег на 10% от предыдущего значения. По данному числу y определите номер дня, на который пробег спортсмена составит не менее y километров."
   ]
  },
  {
   "cell_type": "code",
   "execution_count": null,
   "metadata": {},
   "outputs": [],
   "source": [
    "x = int(input())\n",
    "y = int(input())\n",
    "n = 1\n",
    "while x < y:\n",
    "    x = x + (0.1*x)\n",
    "    n += 1\n",
    "print(n)"
   ]
  }
 ],
 "metadata": {
  "kernelspec": {
   "display_name": "Python 3",
   "language": "python",
   "name": "python3"
  },
  "language_info": {
   "codemirror_mode": {
    "name": "ipython",
    "version": 3
   },
   "file_extension": ".py",
   "mimetype": "text/x-python",
   "name": "python",
   "nbconvert_exporter": "python",
   "pygments_lexer": "ipython3",
   "version": "3.7.0"
  }
 },
 "nbformat": 4,
 "nbformat_minor": 2
}
