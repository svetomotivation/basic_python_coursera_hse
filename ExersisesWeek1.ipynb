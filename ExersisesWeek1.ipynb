{
 "cells": [
  {
   "cell_type": "markdown",
   "metadata": {},
   "source": [
    "# Курс \"Основы программирования на Python\", неделя 1"
   ]
  },
  {
   "cell_type": "markdown",
   "metadata": {},
   "source": [
    "- [Hello, %username!](#1)\n",
    "- [Пингвины](#2)\n",
    "- [Дележ яблок-1](#3)\n",
    "- [Дележ яблок-2](#4)\n",
    "- [Степень двойки](#5)\n",
    "- [Последняя цифра](#6)\n",
    "- [Вторая цифра справа](#7)\n",
    "- [Сумма цифр трехзначного числа](#8)\n",
    "- [100A](#9)\n",
    "- [Электронные часы-1](#10)\n",
    "- [Покупка](#11)\n",
    "- [Следующее и предыдущее](#12)\n",
    "- [0 в 1 и наоборот](#13)\n",
    "- [Следующее четное число](#14)\n",
    "- [100 раз подряд и в квадрате](#15)\n",
    "- [МКАД](#16)\n",
    "- [Электронные часы-2](#17)\n",
    "- [Разность времен](#18)\n",
    "- [Автопробег](#19)\n",
    "- [Улитка](#20)\n",
    "- [Симметричное число-2](#21)\n",
    "- [Проверка на делимость](#22)\n",
    "- [Максимум из двух](#23)"
   ]
  },
  {
   "cell_type": "markdown",
   "metadata": {},
   "source": [
    "### Hello, %username! <a id='1'></a>\n",
    "Напишите программу, которая приветствует пользователя, выводя слово Hello, введенное имя и знаки препинания по образцу (см. пример входных и выходных данных). Программа должна считывать в строковую переменную значение и писать соответствующее приветствие. Обратите внимание, что после запятой должен обязательно стоять пробел, а перед восклицательным знаком пробела нет. Операцией конкатенации строк (+) пользоваться нельзя."
   ]
  },
  {
   "cell_type": "code",
   "execution_count": null,
   "metadata": {},
   "outputs": [],
   "source": [
    "print('Hello, ', input(), '!', sep='')"
   ]
  },
  {
   "cell_type": "markdown",
   "metadata": {},
   "source": [
    "## Пингвины <a id='2'></a>\n",
    "Напишите программу, которая по данному числу N от 1 до 9 выводит на экран N пингвинов. Изображение одного пингвина имеет размер 5×9 символов, между двумя соседними пингвинами также имеется пустой (из пробелов) столбец. Разрешается вывести пустой столбец после последнего пингвина. Для упрощения рисования скопируйте пингвина из примера в среду разработки. \n",
    "   ~\n",
    " (o o)\n",
    " / V \\\n",
    "/( _ )\\ \n",
    " ^^ ^^"
   ]
  },
  {
   "cell_type": "code",
   "execution_count": null,
   "metadata": {},
   "outputs": [],
   "source": [
    "a0 = int(input())\n",
    "a = '  _~_   '\n",
    "b = ' (o o)  '\n",
    "c = \" / V \\  \"\n",
    "d = '/( _ )\\ '\n",
    "e = ' ^^ ^^  '\n",
    "print(a*a0)\n",
    "print(b*a0)\n",
    "print(c*a0)\n",
    "print(d*a0)\n",
    "print(e*a0)"
   ]
  },
  {
   "cell_type": "markdown",
   "metadata": {},
   "source": [
    "## Дележ яблок-1 <a id='3'></a>\n",
    "N школьников делят K яблок поровну, не делящийся остаток остается в корзинке. Сколько яблок достанется каждому школьнику?"
   ]
  },
  {
   "cell_type": "code",
   "execution_count": null,
   "metadata": {},
   "outputs": [],
   "source": [
    "kids = int(input())\n",
    "apples = int(input())\n",
    "print(apples//kids)"
   ]
  },
  {
   "cell_type": "markdown",
   "metadata": {},
   "source": [
    "## Дележ яблок-2 <a id='4'></a>"
   ]
  },
  {
   "cell_type": "code",
   "execution_count": null,
   "metadata": {},
   "outputs": [],
   "source": [
    "kids = int(input())\n",
    "apples = int(input())\n",
    "result = apples%kids\n",
    "print(result)"
   ]
  },
  {
   "cell_type": "markdown",
   "metadata": {},
   "source": [
    "## Степень двойки <a id='5'></a>\n",
    "Вводится целое неотрицательное число N. N≤100."
   ]
  },
  {
   "cell_type": "code",
   "execution_count": null,
   "metadata": {},
   "outputs": [],
   "source": [
    "a = int(input())\n",
    "print(2**a)"
   ]
  },
  {
   "cell_type": "markdown",
   "metadata": {},
   "source": [
    "## Последняя цифра <a id='6'></a>\n",
    "Дано натуральное число. Выведите его последнюю цифру."
   ]
  },
  {
   "cell_type": "code",
   "execution_count": null,
   "metadata": {},
   "outputs": [],
   "source": [
    "a = int(input())\n",
    "print(a%10)"
   ]
  },
  {
   "cell_type": "markdown",
   "metadata": {},
   "source": [
    "## Вторая цифра справа <a id='7'></a>\n",
    "Дано натуральное число. Найдите цифру, стоящую в разряде десятков в его десятичной записи (вторую справа цифру)."
   ]
  },
  {
   "cell_type": "code",
   "execution_count": null,
   "metadata": {},
   "outputs": [],
   "source": [
    "a = int(input())\n",
    "b = a % 100\n",
    "print(b//10)"
   ]
  },
  {
   "cell_type": "markdown",
   "metadata": {},
   "source": [
    "## Сумма цифр трехзначного числа <a id='8'></a>"
   ]
  },
  {
   "cell_type": "code",
   "execution_count": null,
   "metadata": {},
   "outputs": [],
   "source": [
    "a = int(input())\n",
    "b = a//100\n",
    "c = (a//10) % 10\n",
    "d = a % 10\n",
    "print(b + c + d)"
   ]
  },
  {
   "cell_type": "markdown",
   "metadata": {},
   "source": [
    "## 100A <a id='9'></a>"
   ]
  },
  {
   "cell_type": "code",
   "execution_count": null,
   "metadata": {},
   "outputs": [],
   "source": [
    "print('A'*100)"
   ]
  },
  {
   "cell_type": "markdown",
   "metadata": {},
   "source": [
    "## Электронные часы-1 <a id='10'></a>\n",
    "Дано число N. С начала суток прошло N минут. Определите, сколько часов и минут будут показывать электронные часы в этот момент."
   ]
  },
  {
   "cell_type": "code",
   "execution_count": null,
   "metadata": {},
   "outputs": [],
   "source": [
    "a = int(input())\n",
    "print(a//60%24, a%60)"
   ]
  },
  {
   "cell_type": "markdown",
   "metadata": {},
   "source": [
    "## Покупка <a id='11'></a>\n",
    "Пирожок в столовой стоит A рублей и B копеек. Определите, сколько рублей и копеек нужно заплатить за N пирожков."
   ]
  },
  {
   "cell_type": "code",
   "execution_count": null,
   "metadata": {
    "collapsed": true
   },
   "outputs": [],
   "source": [
    "a = int(input())\n",
    "b = int(input())\n",
    "n = int(input())\n",
    "cost1 = a*100 + b\n",
    "totalCost = cost1*n\n",
    "print(totalCost//100, totalCost%100)"
   ]
  },
  {
   "cell_type": "markdown",
   "metadata": {},
   "source": [
    "## Следующее и предыдущее <a id='12'></a>"
   ]
  },
  {
   "cell_type": "markdown",
   "metadata": {},
   "source": [
    "\n",
    "Напишите программу, которая считывает целое число и выводит текст, аналогичный приведенному в примере (пробелы важны!). Нельзя пользоваться конкатенацией строк (используйте print с несколькими параметрами).\n",
    "\n"
   ]
  },
  {
   "cell_type": "code",
   "execution_count": null,
   "metadata": {
    "collapsed": true
   },
   "outputs": [],
   "source": [
    "a = int(input())\n",
    "print(\"The next number for the number\", a, 'is',a+1, \".\", sep =' ')\n",
    "print(\"The previous number for the number \", a, 'is ', a-1 , '.', sep =' ')"
   ]
  },
  {
   "cell_type": "markdown",
   "metadata": {},
   "source": [
    "## 0 в 1 и наоборот <a id='13'></a>\n",
    "Вводится число 0 или 1, необходимо вывести 1 или 0 соответственно."
   ]
  },
  {
   "cell_type": "code",
   "execution_count": null,
   "metadata": {
    "collapsed": true
   },
   "outputs": [],
   "source": [
    "a = int(input())\n",
    "print(1-a)"
   ]
  },
  {
   "cell_type": "markdown",
   "metadata": {},
   "source": [
    "## Cледующее четное число <a id='14'></a>"
   ]
  },
  {
   "cell_type": "code",
   "execution_count": null,
   "metadata": {
    "collapsed": true
   },
   "outputs": [],
   "source": [
    "a = int(input())\n",
    "print(a+2-(a%2))"
   ]
  },
  {
   "cell_type": "markdown",
   "metadata": {},
   "source": [
    "## Сто раз подряд и в квадрате <a id='15'></a>"
   ]
  },
  {
   "cell_type": "code",
   "execution_count": null,
   "metadata": {
    "collapsed": true
   },
   "outputs": [],
   "source": [
    "a = input()\n",
    "b = 100*a\n",
    "print(int(b)**2)"
   ]
  },
  {
   "cell_type": "markdown",
   "metadata": {},
   "source": [
    "## МКАД <a id='16'></a>\n",
    "Длина Московской кольцевой автомобильной дороги — 109 километров. Байкер Вася стартует с нулевого километра МКАД и едет со скоростью v километров в час. На какой отметке он остановится через t часов?"
   ]
  },
  {
   "cell_type": "code",
   "execution_count": null,
   "metadata": {
    "collapsed": true
   },
   "outputs": [],
   "source": [
    "t = int(input())\n",
    "speed = int(input())\n",
    "print(t*speed%109)"
   ]
  },
  {
   "cell_type": "markdown",
   "metadata": {},
   "source": [
    "## Электронные часы-2 <a id='17'></a>\n",
    "Электронные часы показывают время в формате h:mm:ss, то есть сначала записывается количество часов (число от 0 до , потом обязательно двузначное количество минут, затем обязательно двузначное количество секунд. Количество минут и секунд при необходимости дополняются до двузначного числа нулями."
   ]
  },
  {
   "cell_type": "code",
   "execution_count": null,
   "metadata": {
    "collapsed": true
   },
   "outputs": [],
   "source": [
    "a = int(input())\n",
    "s = a % 3600 % 60\n",
    "m = a // 60 % 60\n",
    "h = a // 3600 % 24\n",
    "print(h, \":\", m//10,m%10,\":\", s//10,s%10, sep=\"\")"
   ]
  },
  {
   "cell_type": "markdown",
   "metadata": {},
   "source": [
    "## Разность времен <a id='18'></a>\n",
    "Даны два момента времени в пределах одних и тех же суток. Для каждого момента указан час, минута и секунда. Известно, что второй момент времени наступил не раньше первого. Определите сколько секунд прошло между двумя моментами времени."
   ]
  },
  {
   "cell_type": "code",
   "execution_count": null,
   "metadata": {
    "collapsed": true
   },
   "outputs": [],
   "source": [
    "h1 = int(input()) % 24\n",
    "m1 = int(input()) % 60\n",
    "s1 = int(input()) % 60\n",
    "h2 = int(input()) % 24\n",
    "m2 = int(input()) % 60\n",
    "s2 = int(input()) % 60\n",
    "tots1 = s1 + m1 * 60 + h1 * 3600\n",
    "tots2 = s2 + m2 * 60 + h2 * 3600\n",
    "print(tots2 - tots1)"
   ]
  },
  {
   "cell_type": "markdown",
   "metadata": {},
   "source": [
    "## Автопробег <a id='19'></a>\n",
    "За день машина проезжает N километров. Сколько дней нужно, чтобы проехать маршрут длиной M километров?"
   ]
  },
  {
   "cell_type": "code",
   "execution_count": null,
   "metadata": {
    "collapsed": true
   },
   "outputs": [],
   "source": [
    "import math\n",
    "s = int(input())\n",
    "w = int(input())\n",
    "print(math.ceil(w/s))"
   ]
  },
  {
   "cell_type": "markdown",
   "metadata": {},
   "source": [
    "## Улитка <a id='20'></a>\n",
    "Улитка ползет по вертикальному шесту высотой H метров, поднимаясь за день на A метров, а за ночь спускаясь на B метров. На какой день улитка доползет до вершины шеста? \n",
    "\n",
    "Программа получает на вход натуральные числа H, A, B. Гарантируется, что A>B, A<H."
   ]
  },
  {
   "cell_type": "code",
   "execution_count": null,
   "metadata": {
    "collapsed": true
   },
   "outputs": [],
   "source": []
  },
  {
   "cell_type": "markdown",
   "metadata": {},
   "source": [
    "## Симметричное число-2 <a id='21'></a>\n",
    "Дано четырехзначное число. Определите, является ли его десятичная запись симметричной. Если число симметричное, то выведите 1, иначе выведите любое другое целое число. Число может иметь меньше четырех знаков, тогда нужно считать, что его десятичная запись дополняется слева незначащими нулями."
   ]
  },
  {
   "cell_type": "code",
   "execution_count": null,
   "metadata": {
    "collapsed": true
   },
   "outputs": [],
   "source": [
    "d = int(input())\n",
    "q = d//1000"
   ]
  },
  {
   "cell_type": "markdown",
   "metadata": {},
   "source": [
    "## Проверка на делимость <a id='22'></a>\n",
    "В этой задаче необходимо проверить, делится ли число A на число B нацело. Использовать можно только арифметические операции, использование любых видов ветвлений, функций и т.п. запрещено."
   ]
  },
  {
   "cell_type": "code",
   "execution_count": null,
   "metadata": {
    "collapsed": true
   },
   "outputs": [],
   "source": [
    "a = int(input())\n",
    "b = int(input())\n",
    "X = a % b\n",
    "print(\"YES\"*(1-X) + \"NO\"*X)"
   ]
  },
  {
   "cell_type": "markdown",
   "metadata": {},
   "source": [
    "## Максимум из двух <a id='23'></a>\n",
    "Напишите программу, которая считывает два целых числа A и B и выводит наибольшее значение из них. Числа — целые от 1 до 1000."
   ]
  },
  {
   "cell_type": "code",
   "execution_count": null,
   "metadata": {
    "collapsed": true
   },
   "outputs": [],
   "source": [
    "a = int(input())\n",
    "b = int(input())\n",
    "print((((a // b) * a) + ((b // a) * b)) // ((a // b) + (b // a)))"
   ]
  }
 ],
 "metadata": {
  "kernelspec": {
   "display_name": "Python 3",
   "language": "python",
   "name": "python3"
  },
  "language_info": {
   "codemirror_mode": {
    "name": "ipython",
    "version": 3
   },
   "file_extension": ".py",
   "mimetype": "text/x-python",
   "name": "python",
   "nbconvert_exporter": "python",
   "pygments_lexer": "ipython3",
   "version": "3.7.0"
  }
 },
 "nbformat": 4,
 "nbformat_minor": 2
}
