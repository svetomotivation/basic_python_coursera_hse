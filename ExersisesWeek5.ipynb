{
 "cells": [
  {
   "cell_type": "markdown",
   "metadata": {},
   "source": [
    "# Курс \"Основы программирования на Python\", неделя 5"
   ]
  },
  {
   "cell_type": "markdown",
   "metadata": {},
   "source": [
    "- [Ряд - 1](#1)\n",
    "- [Ряд - 2](#2)\n",
    "- [Ряд - 3](#4)\n",
    "- [Сумма квадратов](#5)\n",
    "- [Флаги](#6)\n",
    "- [Количество нулей](#7)\n",
    "- [Лесенка](#8)\n",
    "- [Замечательные числа - 1](#9)\n",
    "- [Четные индексы](#10)\n",
    "- [Сумма факториалов](#11)\n",
    "- [Четные элементы](#12)\n",
    "- [Больше своих соседей](#13)\n",
    "- [Наибольший элемент](#14)\n",
    "- [Количество положительных](#15)\n",
    "- [Больше предыдущего](#16)\n",
    "- [Cоседи одного знака](#17)"
   ]
  },
  {
   "cell_type": "markdown",
   "metadata": {},
   "source": [
    "## Ряд - 1<a id='1'></a>\n",
    "Даны два целых числа A и B (при этом A≤B). Выведите все числа от A до B включительно."
   ]
  },
  {
   "cell_type": "code",
   "execution_count": null,
   "metadata": {},
   "outputs": [],
   "source": [
    "a = int(input())\n",
    "b = int(input())\n",
    "for i in range(a, (b+1)):\n",
    "    print(i, end = ' ')"
   ]
  },
  {
   "cell_type": "markdown",
   "metadata": {},
   "source": [
    "## Ряд - 2<a id='2'></a>\n",
    "Даны два целых числа A и В. Выведите все числа от A до B включительно, в порядке возрастания,если A < B, или в порядке убывания в противном случае."
   ]
  },
  {
   "cell_type": "code",
   "execution_count": null,
   "metadata": {},
   "outputs": [],
   "source": [
    "a = int(input())\n",
    "b = int(input())\n",
    "if a < b:\n",
    "    for i in range(a, b+1, 1):\n",
    "        print(i, end=' ')\n",
    "else:\n",
    "    for i in range(a, b-1, -1):\n",
    "        print(i, end=' ')"
   ]
  },
  {
   "cell_type": "markdown",
   "metadata": {},
   "source": [
    "## Ряд - 3<a id='4'></a>\n",
    "Дано натуральное число n. Напечатайте все n-значные нечетные натуральные числа в порядке убывания."
   ]
  },
  {
   "cell_type": "code",
   "execution_count": null,
   "metadata": {},
   "outputs": [],
   "source": [
    "n = int(input())\n",
    "for num in range((10**n)-1,10**(n-1)-1,-1):\n",
    "    if num % 2 == 1:\n",
    "        print(num, end=' ')"
   ]
  },
  {
   "cell_type": "markdown",
   "metadata": {},
   "source": [
    "## Сумма квадратов <a id='5'></a>\n",
    "По данному натуральном n вычислите сумму a1²+2²+3²+...+n²."
   ]
  },
  {
   "cell_type": "code",
   "execution_count": null,
   "metadata": {},
   "outputs": [],
   "source": [
    "n = int(input())\n",
    "sum = 0\n",
    "for i in range(n + 1):\n",
    "    a = i ** 2\n",
    "    sum += a\n",
    "print(sum) "
   ]
  },
  {
   "cell_type": "markdown",
   "metadata": {},
   "source": [
    "## Флаги<a id='6'></a>\n",
    "Напишите программу, которая по данному числу n от 1 до 9 выводит на экран n флагов. Изображение одного флага имеет размер 4×4 символов, между двумя соседними флагами также имеется пустой (из пробелов) столбец. Разрешается вывести пустой столбец после последнего флага. Внутри каждого флага должен быть записан его номер — число от 1 до n."
   ]
  },
  {
   "cell_type": "code",
   "execution_count": null,
   "metadata": {},
   "outputs": [],
   "source": [
    "n = int(input())\n",
    "print('+___ '*n)\n",
    "for i in range(n):\n",
    "    print('|', i+1, ' /', sep='', end=' ')\n",
    "print()\n",
    "print('|__\\\\ '*n)\n",
    "print('|    '*n)"
   ]
  },
  {
   "cell_type": "markdown",
   "metadata": {},
   "source": [
    "## Количество нулей <a id='7'></a>\n",
    "Дано несколько чисел. Подсчитайте, сколько из них равны нулю, и выведите это количество. Cначала вводится число N, затем вводится ровно N целых чисел.\n"
   ]
  },
  {
   "cell_type": "code",
   "execution_count": null,
   "metadata": {},
   "outputs": [],
   "source": [
    "n = int(input())\n",
    "sum = 0\n",
    "for i in range(n):\n",
    "    i = int(input())\n",
    "    if i == 0:\n",
    "        sum += 1\n",
    "print(sum)"
   ]
  },
  {
   "cell_type": "markdown",
   "metadata": {},
   "source": [
    "## Лесенка<a id='8'></a>\n",
    "По данному натуральному n≤9 выведите лесенку из n ступенек, i-я ступенька состоит из чисел от 1 до i без пробелов."
   ]
  },
  {
   "cell_type": "code",
   "execution_count": null,
   "metadata": {},
   "outputs": [],
   "source": [
    "n = int(input())\n",
    "for i in range(1, n + 1):\n",
    "    for j in range(1, i + 1):\n",
    "        print(j, end='')\n",
    "    \n",
    "    print()"
   ]
  },
  {
   "cell_type": "markdown",
   "metadata": {},
   "source": [
    "##  Замечательные числа - 1<a id='9'></a>\n",
    "Найдите и выведите все двузначные числа, которые равны удвоенному произведению своих цифр. Программа не требует ввода данных с клавиатуры, просто выводит список искомых чисел."
   ]
  },
  {
   "cell_type": "code",
   "execution_count": null,
   "metadata": {},
   "outputs": [],
   "source": [
    "for n in range(10, 100):\n",
    "    if 2 * (n // 10) * (n % 10) == n:\n",
    "        print(n)"
   ]
  },
  {
   "cell_type": "markdown",
   "metadata": {},
   "source": [
    "## Быстрое возведение в степень <a id='10'></a>\n",
    "Возводить в степень можно гораздо быстрее, чем за n умножений! Для этого нужно воспользоваться следующими рекуррентными соотношениями: aⁿ = (a²)ⁿ/² при четном n, aⁿ=a⋅aⁿ⁻¹ при нечетном n. Реализуйте алгоритм быстрого возведения в степень. Если вы все сделаете правильно,то сложность вашего алгоритма будет O(logn). Вводится действительное число a и целое число n."
   ]
  },
  {
   "cell_type": "code",
   "execution_count": null,
   "metadata": {},
   "outputs": [],
   "source": [
    "def fastExp(a, n):\n",
    "    def even(n):\n",
    "        if n%2==0:\n",
    "            return 1\n",
    "        return 0\n",
    "    if n==0:\n",
    "        return 1\n",
    "    if even(n):\n",
    "        return fastExp(a, n/2)**2\n",
    "    return a*fastExp(a, n-1)\n",
    "a = float(input())\n",
    "n = int(input())\n",
    "print(fastExp(a, n))"
   ]
  },
  {
   "cell_type": "markdown",
   "metadata": {},
   "source": [
    "## Четные индексы<a id='10'></a>\n",
    "Выведите все элементы списка с четными индексами (то есть A[0], A[2], A[4], ...). Программа должна быть эффективной и не выполнять лишних действий! Вводится список чисел. Все числа списка находятся на одной строке."
   ]
  },
  {
   "cell_type": "code",
   "execution_count": null,
   "metadata": {},
   "outputs": [],
   "source": [
    "a = input().split()\n",
    "for i in range(len(a)):\n",
    "    if i % 2 == 0:\n",
    "        print(a[i], end=' ')"
   ]
  },
  {
   "cell_type": "markdown",
   "metadata": {},
   "source": [
    "## Сумма факториалов <a id='11'></a>\n",
    "По данному натуральном n вычислите сумму 1!+2!+3!+...+n!.В решении этой задачи можно использоватьтолько один цикл."
   ]
  },
  {
   "cell_type": "code",
   "execution_count": null,
   "metadata": {},
   "outputs": [],
   "source": [
    "n = int(input())\n",
    "f = 1\n",
    "sum = 0\n",
    "for i in range(1, n + 1):\n",
    "    f = f*i\n",
    "    sum += f\n",
    "print(sum)"
   ]
  },
  {
   "cell_type": "markdown",
   "metadata": {},
   "source": [
    "## Четные элементы<a id='12'></a>\n",
    "Выведите все четные элементы списка. Вводится список чисел. Все числа списка находятся на одной строке."
   ]
  },
  {
   "cell_type": "code",
   "execution_count": null,
   "metadata": {},
   "outputs": [],
   "source": [
    "a = input().split()\n",
    "for i in range(len(a)):\n",
    "    if int(a[i]) % 2 == 0:\n",
    "        print(a[i], end=' ')"
   ]
  },
  {
   "cell_type": "markdown",
   "metadata": {},
   "source": [
    "## Больше своих соседей <a id='13'></a>\n",
    "Дан список чисел. Определите, сколько в этом списке элементов, которыебольше двух своих соседей и выведите количество таких элементов. Вводится список чисел. Все числа списка находятся на одной строке."
   ]
  },
  {
   "cell_type": "code",
   "execution_count": null,
   "metadata": {},
   "outputs": [],
   "source": [
    "a = input().split() # список строк\n",
    "m = 0\n",
    "for i in range(1, len(a)-1):\n",
    "    if int(a[i-1]) < int(a[i]) and int(a[i]) > int(a[i+1]):\n",
    "        m += 1\n",
    "print(m)"
   ]
  },
  {
   "cell_type": "markdown",
   "metadata": {},
   "source": [
    "## Наибольший элемент <a id='14'></a>\n",
    "Дан список чисел. Выведите значение наибольшего элемента в списке, а затем индекс этого элемента в списке. Если наибольших элементов несколько, выведите индекс первого из них."
   ]
  },
  {
   "cell_type": "code",
   "execution_count": null,
   "metadata": {},
   "outputs": [],
   "source": [
    "a = input().split() # список строк\n",
    "max = int(a[0])\n",
    "max_index = 0\n",
    "for i in range(1, len(a)):\n",
    "    n = int(a[i])\n",
    "    if n > max:\n",
    "        max = n\n",
    "        max_index = i\n",
    "print(max, max_index)"
   ]
  },
  {
   "cell_type": "markdown",
   "metadata": {},
   "source": [
    "## Количество положительных <a id='15'></a>\n",
    "Найдите количество положительных элементов в данном списке."
   ]
  },
  {
   "cell_type": "code",
   "execution_count": null,
   "metadata": {},
   "outputs": [],
   "source": [
    "x = int(input())\n",
    "if x>0:\n",
    "    print(1)\n",
    "elif x == 0:\n",
    "    print(0)\n",
    "else:\n",
    "    print(-1)"
   ]
  },
  {
   "cell_type": "markdown",
   "metadata": {},
   "source": [
    "## Больше предыдущего<a id='16'></a>\n",
    "Даны три целых числа. Определите, сколько среди них совпадающих. Программа должна вывести одно из чисел: 3 (если все совпадают), 2 (если два совпадает) или 0 (если все числа различны)."
   ]
  },
  {
   "cell_type": "code",
   "execution_count": null,
   "metadata": {},
   "outputs": [],
   "source": [
    "q = int(input())\n",
    "w = int(input())\n",
    "e = int(input())\n",
    "if q == w and w == e:\n",
    "    print(3)\n",
    "elif q != w == e or q == w != e or q == e != w:\n",
    "    print(2)\n",
    "else:\n",
    "    print(0)\n",
    "\n"
   ]
  },
  {
   "cell_type": "markdown",
   "metadata": {},
   "source": [
    "## Соседи одного знака<a id='17'></a>\n",
    "Дан список чисел. Если в нем есть два соседних элемента одного знака, выведите эти числа. Если соседних элементов одного знака нет - не выводите ничего. Если таких пар соседей несколько - выведите первую пару."
   ]
  },
  {
   "cell_type": "code",
   "execution_count": null,
   "metadata": {},
   "outputs": [],
   "source": [
    "a = input().split() # список строк\n",
    "for i in range(len(a)-1): # строка\n",
    "    n = int(a[i]) # строка в списке стала числом - строка \"5\" стала числом 5 для 5 4 3 2 1 \n",
    "    i += 1\n",
    "    m = int(a[i]) # строка в списке стала числом - строка \"4\" стала числом 4 для 5 4 3 2 1 \n",
    "    if (n * m) > 0:\n",
    "        print(n, m, end=' ')\n",
    "        break"
   ]
  }
 ],
 "metadata": {
  "kernelspec": {
   "display_name": "Python 3",
   "language": "python",
   "name": "python3"
  },
  "language_info": {
   "codemirror_mode": {
    "name": "ipython",
    "version": 3
   },
   "file_extension": ".py",
   "mimetype": "text/x-python",
   "name": "python",
   "nbconvert_exporter": "python",
   "pygments_lexer": "ipython3",
   "version": "3.7.0"
  }
 },
 "nbformat": 4,
 "nbformat_minor": 2
}
