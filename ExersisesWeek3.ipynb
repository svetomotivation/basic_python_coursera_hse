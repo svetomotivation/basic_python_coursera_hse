{
 "cells": [
  {
   "cell_type": "markdown",
   "metadata": {},
   "source": [
    "# Курс \"Основы программирования на Python\", неделя 3"
   ]
  },
  {
   "cell_type": "markdown",
   "metadata": {},
   "source": [
    "- [Площадь треугольника](#1)\n",
    "- [Дробная часть](#2)\n",
    "- [Цена товара](#4)\n",
    "- [Сумма ряда](#5)\n",
    "- [Округление по российским правилам](#6)\n",
    "- [Проценты](#7)\n",
    "- [Сложные проценты](#8)\n",
    "- [Стандартное отклонение](#9)\n",
    "- [Квадратное уравнение - 1 ](#10)\n",
    "- [Линейное уравнение](#11)"
   ]
  },
  {
   "cell_type": "markdown",
   "metadata": {},
   "source": [
    "## Площадь треугольника <a id='1'></a>\n",
    "Даны длины сторон треугольника. Вычислите площадь треугольника."
   ]
  },
  {
   "cell_type": "code",
   "execution_count": null,
   "metadata": {},
   "outputs": [],
   "source": [
    "a = float(input())\n",
    "b = float(input())\n",
    "c = float(input())\n",
    "p = (a + b + c) / 2\n",
    "res = (p * (p - a) * (p - b) * (p - c))\n",
    "if res < 0:\n",
    "    res = res * -1\n",
    "print('{:.6f}'.format(pow(res, 0.5)))"
   ]
  },
  {
   "cell_type": "markdown",
   "metadata": {},
   "source": [
    "## Дробная часть <a id='2'></a>"
   ]
  },
  {
   "cell_type": "code",
   "execution_count": null,
   "metadata": {},
   "outputs": [],
   "source": [
    "x = float(input())\n",
    "y = x - x // 1\n",
    "d = round(y, 3)\n",
    "print(d)"
   ]
  },
  {
   "cell_type": "markdown",
   "metadata": {},
   "source": [
    "## Цена товара<a id='4'></a>"
   ]
  },
  {
   "cell_type": "markdown",
   "metadata": {},
   "source": [
    "Цена товара обозначена в рублях с точностью до копеек, то есть действительным числом с двумя цифрами после десятичной точки. Запишите в две целочисленные переменные стоимость товара в виде целого числа рублей и целого числа копеек и выведитеих на экран. При решении этой задачи нельзя пользоваться условными инструкциями и циклами."
   ]
  },
  {
   "cell_type": "code",
   "execution_count": null,
   "metadata": {},
   "outputs": [],
   "source": [
    "p = float(input())\n",
    "k = p - p // 1\n",
    "r = int(p // 1)\n",
    "kr = (round(k, 2))*100\n",
    "print(r,'{0:.0f}'.format(kr))"
   ]
  },
  {
   "cell_type": "markdown",
   "metadata": {},
   "source": [
    "## Сумма ряда <a id='5'></a>"
   ]
  },
  {
   "cell_type": "code",
   "execution_count": null,
   "metadata": {},
   "outputs": [],
   "source": [
    "n=int(input())\n",
    "i=2\n",
    "s=1\n",
    "while i != n + 1:\n",
    "    s += 1/(i**2)\n",
    "    i += 1\n",
    "print('{0:.5f}'.format(s))"
   ]
  },
  {
   "cell_type": "markdown",
   "metadata": {},
   "source": [
    "## Округление по российским правилам<a id='6'></a>\n",
    "По российский правилам числа округляются до ближайшего целого числа,а если дробная часть числа равна 0.5, то число округляется вверх. Дано неотрицательное число x, округлите его по этим правилам. "
   ]
  },
  {
   "cell_type": "code",
   "execution_count": null,
   "metadata": {},
   "outputs": [],
   "source": [
    "x = float(input())\n",
    "if x - int(x) == 0.5:\n",
    "    x += 0.1\n",
    "print(round(x))"
   ]
  },
  {
   "cell_type": "markdown",
   "metadata": {},
   "source": [
    "# Проценты <a id='7'></a>\n",
    "Процентная ставка по вкладу составляет P процентов годовых, которые прибавляются к сумме вклада. Вклад составляет X рублей Y копеек. Определите размер вклада через год. При решении этой задачи нельзя пользоваться условными инструкциями и циклами.\n"
   ]
  },
  {
   "cell_type": "code",
   "execution_count": null,
   "metadata": {},
   "outputs": [],
   "source": [
    "p = int(input())\n",
    "x = int(input())\n",
    "y = int(input())\n",
    "s = x + y*0.01\n",
    "d = s*p*0.01 + s\n",
    "k = d - d // 1\n",
    "rd = int(d // 1)\n",
    "kd = (round(k, 2))*100\n",
    "print(rd, '{0:.0f}'.format(kd))"
   ]
  },
  {
   "cell_type": "markdown",
   "metadata": {},
   "source": [
    "## Сложные проценты<a id='8'></a>\n",
    "Процентная ставка по вкладу составляет P процентов годовых, которые прибавляются к сумме вклада через год .Вклад составляет X рублей Y копеек. Определите размер вклада через K лет."
   ]
  },
  {
   "cell_type": "code",
   "execution_count": null,
   "metadata": {},
   "outputs": [],
   "source": [
    "p = int(input())\n",
    "rub = int(input())\n",
    "kop = int(input())\n",
    "k = int(input())\n",
    "tot = rub + kop*0.01             \n",
    "fut = tot*((1 + 0.01*p)**k) \n",
    "r = int(fut // 1)  \n",
    "k = fut - fut // 1\n",
    "kd = (round(k, 2))*100\n",
    "print(r,'{0:.0f}'.format(kd))"
   ]
  },
  {
   "cell_type": "markdown",
   "metadata": {},
   "source": [
    "## Стандартное отклонение<a id='9'></a>\n",
    "Дана последовательность натуральных чисел x₁ x₂ ..., xn.Стандартным отклонением называется величина\n",
    "\n",
    "σ=sqrt(((((x₁-s)²+(x₂-s)²+…+(xn-s)²) / (n-1))))\n",
    "\n",
    "где s = ((x₁+x₂+…+xn) / n) — среднее арифметическое последовательности, а sqrt - квадартный корень. Определите стандартное отклонение для данной последовательности натуральных чисел,завершающейся числом 0."
   ]
  },
  {
   "cell_type": "code",
   "execution_count": null,
   "metadata": {},
   "outputs": [],
   "source": [
    "from math import sqrt\n",
    "x = int(input())\n",
    "s = 0\n",
    "n = 0\n",
    "summ_kv = 0\n",
    "while x != 0:\n",
    "    summ_kv += x**2\n",
    "    s += x\n",
    "    n += 1\n",
    "    x = int(input())\n",
    "srednee = s/n\n",
    "b = sqrt((summ_kv - (s**2)/n) / (n - 1))\n",
    "print(b)"
   ]
  },
  {
   "cell_type": "markdown",
   "metadata": {},
   "source": [
    "## Квадратное уравнение - 1 <a id='10'></a>\n",
    "Даны действительные коэффициенты a, b, c, при этом a != 0. Решите квадратное уравнение ax²+bx+c=0 и выведите все его корни. Если уравнение имеет два корня, выведите два корня в порядке возрастания, если один корень — выведите одно число, если нет корней — не выводите ничего."
   ]
  },
  {
   "cell_type": "code",
   "execution_count": null,
   "metadata": {},
   "outputs": [],
   "source": [
    "from math import sqrt\n",
    "a = float(input())\n",
    "b = float(input())\n",
    "c = float(input())\n",
    "discr = b**2-4*a*c\n",
    "x1 = (-b+sqrt(discr))/(2*a)\n",
    "x2 = (-b-sqrt(discr))/(2*a)\n",
    "x = -b/(2*a)\n",
    "if discr > 0 and x1 > x2:\n",
    "        print('{0:.6}'.format(x2), '{0:.6}'.format(x1))\n",
    "if if discr > 0 and x1 < x2:\n",
    "        print('{0:.6}'.format(x1), '{0:.6}'.format(x2))\n",
    "elif discr == 0:\n",
    "    print('{0:.6}'.format(x))\n",
    "else:\n",
    "    print()"
   ]
  },
  {
   "cell_type": "markdown",
   "metadata": {},
   "source": [
    "## Система линейных уравнений<a id='11'></a>\n",
    "Даны вещественные числа a, b, c, d, e, f. Известно, что система линейных уравнений:\n",
    "\n",
    "ax + by = e\n",
    "\n",
    "cx + dy = f\n",
    "\n",
    "имеет ровно одно решение. Выведите два числа x и y, являющиеся решением этой системы."
   ]
  },
  {
   "cell_type": "code",
   "execution_count": null,
   "metadata": {},
   "outputs": [],
   "source": [
    "a = float(input())\n",
    "b = float(input())\n",
    "c = float(input())\n",
    "d = float(input())\n",
    "e = float(input())\n",
    "f = float(input())\n",
    "det = a*d-c*b\n",
    "det1 = e*d-f*b\n",
    "det2 = a*f-c*e\n",
    "x1 = det1/det\n",
    "x2 = det2/det\n",
    "if det != 0:\n",
    "    print(x1, x2)\n",
    "if det == 0:\n",
    "    print\n",
    "y = (f-c*e)/(a*d-c*b)\n",
    "x = (e-b*y)/a\n",
    "print(int(x//1), int(y//1))n = -1\n",
    "i = -1\n",
    "while n != 0:\n",
    "    n = int(input())\n",
    "    if n % 2 == 0:\n",
    "        i += 1\n",
    "print(i)"
   ]
  }
 ],
 "metadata": {
  "kernelspec": {
   "display_name": "Python 3",
   "language": "python",
   "name": "python3"
  },
  "language_info": {
   "codemirror_mode": {
    "name": "ipython",
    "version": 3
   },
   "file_extension": ".py",
   "mimetype": "text/x-python",
   "name": "python",
   "nbconvert_exporter": "python",
   "pygments_lexer": "ipython3",
   "version": "3.7.0"
  }
 },
 "nbformat": 4,
 "nbformat_minor": 2
}
