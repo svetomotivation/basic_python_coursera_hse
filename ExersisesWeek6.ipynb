{
 "cells": [
  {
   "cell_type": "markdown",
   "metadata": {},
   "source": [
    "# Курс \"Основы программирования на Python\", неделя 6"
   ]
  },
  {
   "cell_type": "markdown",
   "metadata": {},
   "source": [
    "- [Слияние списков](#1)\n"
   ]
  },
  {
   "cell_type": "markdown",
   "metadata": {},
   "source": [
    "## Слияние списков<a id='1'></a>\n",
    "Даны два списка A и B упорядоченных по неубыванию. Объедините их в один упорядоченный список С (то есть он должен содержать len(A)+len(B) элементов). Решение оформите в виде функции merge(A, B), возвращающей новый список. Алгоритм должен иметь сложность O(len(A)+len(B)). Модифицировать исходные списки запрещается. Использовать функцию sorted и метод sort запрещается."
   ]
  },
  {
   "cell_type": "code",
   "execution_count": 1,
   "metadata": {},
   "outputs": [
    {
     "name": "stdout",
     "output_type": "stream",
     "text": [
      "3 4 6 32 456 3452\n",
      "45 645 -45 0 345\n",
      "3 4 6 32 45 456 645 -45 0 345 3452\n"
     ]
    }
   ],
   "source": [
    "list_a = list(map(int, input().split()))\n",
    "list_b = list(map(int, input().split()))\n",
    "\n",
    "\n",
    "def merge(a: list, b: list):\n",
    "\n",
    "    len_a = len(a)\n",
    "    len_b = len(b)\n",
    "\n",
    "    # если первый список длинее, то меняем \n",
    "    # списки и переменные местами:\n",
    "    if len(a) > len_b:\n",
    "        a, b = b, a\n",
    "        len_a, len_b = len_b, len_a\n",
    "\n",
    "    i = 0 # индекс меньшего списка\n",
    "    j = 0 # индекс большего списка\n",
    "    listn = [] # новый список\n",
    "\n",
    "    # цикл проходит только по меньшему списку:\n",
    "    while i <= len_a:\n",
    "\n",
    "        # если конец одного из списка, то\n",
    "        # добавляем оставшееся содержимое второго\n",
    "        # списка в конец нового и выходим:\n",
    "        if i == len_a:\n",
    "            listn = listn + b[j:len_b]\n",
    "            return listn\n",
    "        elif j == len_b:\n",
    "            listn = listn + a[i:len_a]\n",
    "            return listn\n",
    "         # проверяем числа списков и когда\n",
    "        # берем число одного из списка в новый,\n",
    "        # то увеличиваем соответствующий индекс:\n",
    "        if a[i] < b[j]:\n",
    "            listn.append(a[i])\n",
    "            i += 1\n",
    "        elif a[i] == b[j]:\n",
    "            listn.append(a[i])\n",
    "            listn.append(b[j])\n",
    "            i += 1\n",
    "            j += 1\n",
    "        else:\n",
    "            listn.append(b[j])\n",
    "            j += 1\n",
    "\n",
    "\n",
    "print(*merge(list_a, list_b))\n"
   ]
  }
 ],
 "metadata": {
  "kernelspec": {
   "display_name": "Python 3",
   "language": "python",
   "name": "python3"
  },
  "language_info": {
   "codemirror_mode": {
    "name": "ipython",
    "version": 3
   },
   "file_extension": ".py",
   "mimetype": "text/x-python",
   "name": "python",
   "nbconvert_exporter": "python",
   "pygments_lexer": "ipython3",
   "version": "3.7.0"
  }
 },
 "nbformat": 4,
 "nbformat_minor": 2
}
